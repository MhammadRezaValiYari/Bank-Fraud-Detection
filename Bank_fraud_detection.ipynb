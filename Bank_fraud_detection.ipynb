{
  "cells": [
    {
      "cell_type": "code",
      "execution_count": 1,
      "metadata": {
        "colab": {
          "base_uri": "https://localhost:8080/",
          "height": 0
        },
        "id": "hXvITx_lYMk8",
        "outputId": "040e78fc-e0b5-4edd-d4df-9b6cc5c06504"
      },
      "outputs": [
        {
          "output_type": "stream",
          "name": "stdout",
          "text": [
            "Looking in indexes: https://pypi.org/simple, https://us-python.pkg.dev/colab-wheels/public/simple/\n",
            "Collecting dgl\n",
            "  Downloading dgl-0.6.1-cp37-cp37m-manylinux1_x86_64.whl (4.4 MB)\n",
            "\u001b[K     |████████████████████████████████| 4.4 MB 7.6 MB/s \n",
            "\u001b[?25hRequirement already satisfied: requests>=2.19.0 in /usr/local/lib/python3.7/dist-packages (from dgl) (2.23.0)\n",
            "Requirement already satisfied: networkx>=2.1 in /usr/local/lib/python3.7/dist-packages (from dgl) (2.6.3)\n",
            "Requirement already satisfied: numpy>=1.14.0 in /usr/local/lib/python3.7/dist-packages (from dgl) (1.21.6)\n",
            "Requirement already satisfied: scipy>=1.1.0 in /usr/local/lib/python3.7/dist-packages (from dgl) (1.7.3)\n",
            "Requirement already satisfied: urllib3!=1.25.0,!=1.25.1,<1.26,>=1.21.1 in /usr/local/lib/python3.7/dist-packages (from requests>=2.19.0->dgl) (1.24.3)\n",
            "Requirement already satisfied: chardet<4,>=3.0.2 in /usr/local/lib/python3.7/dist-packages (from requests>=2.19.0->dgl) (3.0.4)\n",
            "Requirement already satisfied: idna<3,>=2.5 in /usr/local/lib/python3.7/dist-packages (from requests>=2.19.0->dgl) (2.10)\n",
            "Requirement already satisfied: certifi>=2017.4.17 in /usr/local/lib/python3.7/dist-packages (from requests>=2.19.0->dgl) (2022.6.15)\n",
            "Installing collected packages: dgl\n",
            "Successfully installed dgl-0.6.1\n",
            "Setting the default backend to \"pytorch\". You can change it in the ~/.dgl/config.json file or export the DGLBACKEND environment variable.  Valid options are: pytorch, mxnet, tensorflow (all lowercase)\n"
          ]
        },
        {
          "output_type": "stream",
          "name": "stderr",
          "text": [
            "DGL backend not selected or invalid.  Assuming PyTorch for now.\n",
            "Using backend: pytorch\n"
          ]
        }
      ],
      "source": [
        "import numpy as np # linear algebra\n",
        "import pandas as pd # data processing, CSV file I/O (e.g. pd.read_csv)\n",
        "import seaborn as sns\n",
        "!pip install dgl\n",
        "import dgl\n",
        "import torch\n",
        "import dgl.nn as dglnn\n",
        "import torch.nn as nn\n",
        "import torch.nn.functional as F\n",
        "import matplotlib.pyplot as plt"
      ]
    },
    {
      "cell_type": "code",
      "execution_count": 2,
      "metadata": {
        "id": "UtoqJxInY2-j"
      },
      "outputs": [],
      "source": [
        "pd.set_option('display.max_columns', None)\n",
        "df1 = pd.read_csv('fraudTrain.csv')\n",
        "df2 = pd.read_csv('fraudTest.csv')\n",
        "\n",
        "df1['train_mask'] = 1\n",
        "df1['test_mask'] = 0\n",
        "df2['train_mask'] = 0\n",
        "df2['test_mask'] = 1\n",
        "df = pd.concat([df1, df2])\n"
      ]
    },
    {
      "cell_type": "code",
      "execution_count": 13,
      "metadata": {
        "colab": {
          "base_uri": "https://localhost:8080/",
          "height": 565
        },
        "id": "K4DyZsDYaASs",
        "outputId": "ef956785-da29-4a55-ce21-b04094b5329d"
      },
      "outputs": [
        {
          "output_type": "execute_result",
          "data": {
            "text/plain": [
              "   Unnamed: 0 trans_date_trans_time            cc_num  \\\n",
              "0           0   2019-01-01 00:00:18  2703186189652095   \n",
              "1           1   2019-01-01 00:00:44      630423337322   \n",
              "2           2   2019-01-01 00:00:51    38859492057661   \n",
              "3           3   2019-01-01 00:01:16  3534093764340240   \n",
              "4           4   2019-01-01 00:03:06   375534208663984   \n",
              "\n",
              "                             merchant       category     amt      first  \\\n",
              "0          fraud_Rippin, Kub and Mann       misc_net    4.97   Jennifer   \n",
              "1     fraud_Heller, Gutmann and Zieme    grocery_pos  107.23  Stephanie   \n",
              "2                fraud_Lind-Buckridge  entertainment  220.11     Edward   \n",
              "3  fraud_Kutch, Hermiston and Farrell  gas_transport   45.00     Jeremy   \n",
              "4                 fraud_Keeling-Crist       misc_pos   41.96      Tyler   \n",
              "\n",
              "      last gender                        street            city state  \\\n",
              "0    Banks      F                561 Perry Cove  Moravian Falls    NC   \n",
              "1     Gill      F  43039 Riley Greens Suite 393          Orient    WA   \n",
              "2  Sanchez      M      594 White Dale Suite 530      Malad City    ID   \n",
              "3    White      M   9443 Cynthia Court Apt. 038         Boulder    MT   \n",
              "4   Garcia      M              408 Bradley Rest        Doe Hill    VA   \n",
              "\n",
              "       zip      lat      long  city_pop                                job  \\\n",
              "0  28654.0  36.0788  -81.1781    3495.0          Psychologist, counselling   \n",
              "1  99160.0  48.8878 -118.2105     149.0  Special educational needs teacher   \n",
              "2  83252.0  42.1808 -112.2620    4154.0        Nature conservation officer   \n",
              "3  59632.0  46.2306 -112.1138    1939.0                    Patent attorney   \n",
              "4  24433.0  38.4207  -79.4629      99.0     Dance movement psychotherapist   \n",
              "\n",
              "          dob                         trans_num     unix_time  merch_lat  \\\n",
              "0  1988-03-09  0b242abb623afc578575680df30655b9  1.325376e+09  36.011293   \n",
              "1  1978-06-21  1f76529f8574734946361c461b024d99  1.325376e+09  49.159047   \n",
              "2  1962-01-19  a1a22d70485983eac12b5b88dad1cf95  1.325376e+09  43.150704   \n",
              "3  1967-01-12  6b849c168bdad6f867558c3793159a81  1.325376e+09  47.034331   \n",
              "4  1986-03-28  a41d7549acf90789359a9aa5346dcb46  1.325376e+09  38.674999   \n",
              "\n",
              "   merch_long  is_fraud  train_mask  test_mask  \n",
              "0  -82.048315       0.0           1          0  \n",
              "1 -118.186462       0.0           1          0  \n",
              "2 -112.154481       0.0           1          0  \n",
              "3 -112.561071       0.0           1          0  \n",
              "4  -78.632459       0.0           1          0  "
            ],
            "text/html": [
              "\n",
              "  <div id=\"df-e0bb9efe-9c77-4e51-86dd-be01e4a365a4\">\n",
              "    <div class=\"colab-df-container\">\n",
              "      <div>\n",
              "<style scoped>\n",
              "    .dataframe tbody tr th:only-of-type {\n",
              "        vertical-align: middle;\n",
              "    }\n",
              "\n",
              "    .dataframe tbody tr th {\n",
              "        vertical-align: top;\n",
              "    }\n",
              "\n",
              "    .dataframe thead th {\n",
              "        text-align: right;\n",
              "    }\n",
              "</style>\n",
              "<table border=\"1\" class=\"dataframe\">\n",
              "  <thead>\n",
              "    <tr style=\"text-align: right;\">\n",
              "      <th></th>\n",
              "      <th>Unnamed: 0</th>\n",
              "      <th>trans_date_trans_time</th>\n",
              "      <th>cc_num</th>\n",
              "      <th>merchant</th>\n",
              "      <th>category</th>\n",
              "      <th>amt</th>\n",
              "      <th>first</th>\n",
              "      <th>last</th>\n",
              "      <th>gender</th>\n",
              "      <th>street</th>\n",
              "      <th>city</th>\n",
              "      <th>state</th>\n",
              "      <th>zip</th>\n",
              "      <th>lat</th>\n",
              "      <th>long</th>\n",
              "      <th>city_pop</th>\n",
              "      <th>job</th>\n",
              "      <th>dob</th>\n",
              "      <th>trans_num</th>\n",
              "      <th>unix_time</th>\n",
              "      <th>merch_lat</th>\n",
              "      <th>merch_long</th>\n",
              "      <th>is_fraud</th>\n",
              "      <th>train_mask</th>\n",
              "      <th>test_mask</th>\n",
              "    </tr>\n",
              "  </thead>\n",
              "  <tbody>\n",
              "    <tr>\n",
              "      <th>0</th>\n",
              "      <td>0</td>\n",
              "      <td>2019-01-01 00:00:18</td>\n",
              "      <td>2703186189652095</td>\n",
              "      <td>fraud_Rippin, Kub and Mann</td>\n",
              "      <td>misc_net</td>\n",
              "      <td>4.97</td>\n",
              "      <td>Jennifer</td>\n",
              "      <td>Banks</td>\n",
              "      <td>F</td>\n",
              "      <td>561 Perry Cove</td>\n",
              "      <td>Moravian Falls</td>\n",
              "      <td>NC</td>\n",
              "      <td>28654.0</td>\n",
              "      <td>36.0788</td>\n",
              "      <td>-81.1781</td>\n",
              "      <td>3495.0</td>\n",
              "      <td>Psychologist, counselling</td>\n",
              "      <td>1988-03-09</td>\n",
              "      <td>0b242abb623afc578575680df30655b9</td>\n",
              "      <td>1.325376e+09</td>\n",
              "      <td>36.011293</td>\n",
              "      <td>-82.048315</td>\n",
              "      <td>0.0</td>\n",
              "      <td>1</td>\n",
              "      <td>0</td>\n",
              "    </tr>\n",
              "    <tr>\n",
              "      <th>1</th>\n",
              "      <td>1</td>\n",
              "      <td>2019-01-01 00:00:44</td>\n",
              "      <td>630423337322</td>\n",
              "      <td>fraud_Heller, Gutmann and Zieme</td>\n",
              "      <td>grocery_pos</td>\n",
              "      <td>107.23</td>\n",
              "      <td>Stephanie</td>\n",
              "      <td>Gill</td>\n",
              "      <td>F</td>\n",
              "      <td>43039 Riley Greens Suite 393</td>\n",
              "      <td>Orient</td>\n",
              "      <td>WA</td>\n",
              "      <td>99160.0</td>\n",
              "      <td>48.8878</td>\n",
              "      <td>-118.2105</td>\n",
              "      <td>149.0</td>\n",
              "      <td>Special educational needs teacher</td>\n",
              "      <td>1978-06-21</td>\n",
              "      <td>1f76529f8574734946361c461b024d99</td>\n",
              "      <td>1.325376e+09</td>\n",
              "      <td>49.159047</td>\n",
              "      <td>-118.186462</td>\n",
              "      <td>0.0</td>\n",
              "      <td>1</td>\n",
              "      <td>0</td>\n",
              "    </tr>\n",
              "    <tr>\n",
              "      <th>2</th>\n",
              "      <td>2</td>\n",
              "      <td>2019-01-01 00:00:51</td>\n",
              "      <td>38859492057661</td>\n",
              "      <td>fraud_Lind-Buckridge</td>\n",
              "      <td>entertainment</td>\n",
              "      <td>220.11</td>\n",
              "      <td>Edward</td>\n",
              "      <td>Sanchez</td>\n",
              "      <td>M</td>\n",
              "      <td>594 White Dale Suite 530</td>\n",
              "      <td>Malad City</td>\n",
              "      <td>ID</td>\n",
              "      <td>83252.0</td>\n",
              "      <td>42.1808</td>\n",
              "      <td>-112.2620</td>\n",
              "      <td>4154.0</td>\n",
              "      <td>Nature conservation officer</td>\n",
              "      <td>1962-01-19</td>\n",
              "      <td>a1a22d70485983eac12b5b88dad1cf95</td>\n",
              "      <td>1.325376e+09</td>\n",
              "      <td>43.150704</td>\n",
              "      <td>-112.154481</td>\n",
              "      <td>0.0</td>\n",
              "      <td>1</td>\n",
              "      <td>0</td>\n",
              "    </tr>\n",
              "    <tr>\n",
              "      <th>3</th>\n",
              "      <td>3</td>\n",
              "      <td>2019-01-01 00:01:16</td>\n",
              "      <td>3534093764340240</td>\n",
              "      <td>fraud_Kutch, Hermiston and Farrell</td>\n",
              "      <td>gas_transport</td>\n",
              "      <td>45.00</td>\n",
              "      <td>Jeremy</td>\n",
              "      <td>White</td>\n",
              "      <td>M</td>\n",
              "      <td>9443 Cynthia Court Apt. 038</td>\n",
              "      <td>Boulder</td>\n",
              "      <td>MT</td>\n",
              "      <td>59632.0</td>\n",
              "      <td>46.2306</td>\n",
              "      <td>-112.1138</td>\n",
              "      <td>1939.0</td>\n",
              "      <td>Patent attorney</td>\n",
              "      <td>1967-01-12</td>\n",
              "      <td>6b849c168bdad6f867558c3793159a81</td>\n",
              "      <td>1.325376e+09</td>\n",
              "      <td>47.034331</td>\n",
              "      <td>-112.561071</td>\n",
              "      <td>0.0</td>\n",
              "      <td>1</td>\n",
              "      <td>0</td>\n",
              "    </tr>\n",
              "    <tr>\n",
              "      <th>4</th>\n",
              "      <td>4</td>\n",
              "      <td>2019-01-01 00:03:06</td>\n",
              "      <td>375534208663984</td>\n",
              "      <td>fraud_Keeling-Crist</td>\n",
              "      <td>misc_pos</td>\n",
              "      <td>41.96</td>\n",
              "      <td>Tyler</td>\n",
              "      <td>Garcia</td>\n",
              "      <td>M</td>\n",
              "      <td>408 Bradley Rest</td>\n",
              "      <td>Doe Hill</td>\n",
              "      <td>VA</td>\n",
              "      <td>24433.0</td>\n",
              "      <td>38.4207</td>\n",
              "      <td>-79.4629</td>\n",
              "      <td>99.0</td>\n",
              "      <td>Dance movement psychotherapist</td>\n",
              "      <td>1986-03-28</td>\n",
              "      <td>a41d7549acf90789359a9aa5346dcb46</td>\n",
              "      <td>1.325376e+09</td>\n",
              "      <td>38.674999</td>\n",
              "      <td>-78.632459</td>\n",
              "      <td>0.0</td>\n",
              "      <td>1</td>\n",
              "      <td>0</td>\n",
              "    </tr>\n",
              "  </tbody>\n",
              "</table>\n",
              "</div>\n",
              "      <button class=\"colab-df-convert\" onclick=\"convertToInteractive('df-e0bb9efe-9c77-4e51-86dd-be01e4a365a4')\"\n",
              "              title=\"Convert this dataframe to an interactive table.\"\n",
              "              style=\"display:none;\">\n",
              "        \n",
              "  <svg xmlns=\"http://www.w3.org/2000/svg\" height=\"24px\"viewBox=\"0 0 24 24\"\n",
              "       width=\"24px\">\n",
              "    <path d=\"M0 0h24v24H0V0z\" fill=\"none\"/>\n",
              "    <path d=\"M18.56 5.44l.94 2.06.94-2.06 2.06-.94-2.06-.94-.94-2.06-.94 2.06-2.06.94zm-11 1L8.5 8.5l.94-2.06 2.06-.94-2.06-.94L8.5 2.5l-.94 2.06-2.06.94zm10 10l.94 2.06.94-2.06 2.06-.94-2.06-.94-.94-2.06-.94 2.06-2.06.94z\"/><path d=\"M17.41 7.96l-1.37-1.37c-.4-.4-.92-.59-1.43-.59-.52 0-1.04.2-1.43.59L10.3 9.45l-7.72 7.72c-.78.78-.78 2.05 0 2.83L4 21.41c.39.39.9.59 1.41.59.51 0 1.02-.2 1.41-.59l7.78-7.78 2.81-2.81c.8-.78.8-2.07 0-2.86zM5.41 20L4 18.59l7.72-7.72 1.47 1.35L5.41 20z\"/>\n",
              "  </svg>\n",
              "      </button>\n",
              "      \n",
              "  <style>\n",
              "    .colab-df-container {\n",
              "      display:flex;\n",
              "      flex-wrap:wrap;\n",
              "      gap: 12px;\n",
              "    }\n",
              "\n",
              "    .colab-df-convert {\n",
              "      background-color: #E8F0FE;\n",
              "      border: none;\n",
              "      border-radius: 50%;\n",
              "      cursor: pointer;\n",
              "      display: none;\n",
              "      fill: #1967D2;\n",
              "      height: 32px;\n",
              "      padding: 0 0 0 0;\n",
              "      width: 32px;\n",
              "    }\n",
              "\n",
              "    .colab-df-convert:hover {\n",
              "      background-color: #E2EBFA;\n",
              "      box-shadow: 0px 1px 2px rgba(60, 64, 67, 0.3), 0px 1px 3px 1px rgba(60, 64, 67, 0.15);\n",
              "      fill: #174EA6;\n",
              "    }\n",
              "\n",
              "    [theme=dark] .colab-df-convert {\n",
              "      background-color: #3B4455;\n",
              "      fill: #D2E3FC;\n",
              "    }\n",
              "\n",
              "    [theme=dark] .colab-df-convert:hover {\n",
              "      background-color: #434B5C;\n",
              "      box-shadow: 0px 1px 3px 1px rgba(0, 0, 0, 0.15);\n",
              "      filter: drop-shadow(0px 1px 2px rgba(0, 0, 0, 0.3));\n",
              "      fill: #FFFFFF;\n",
              "    }\n",
              "  </style>\n",
              "\n",
              "      <script>\n",
              "        const buttonEl =\n",
              "          document.querySelector('#df-e0bb9efe-9c77-4e51-86dd-be01e4a365a4 button.colab-df-convert');\n",
              "        buttonEl.style.display =\n",
              "          google.colab.kernel.accessAllowed ? 'block' : 'none';\n",
              "\n",
              "        async function convertToInteractive(key) {\n",
              "          const element = document.querySelector('#df-e0bb9efe-9c77-4e51-86dd-be01e4a365a4');\n",
              "          const dataTable =\n",
              "            await google.colab.kernel.invokeFunction('convertToInteractive',\n",
              "                                                     [key], {});\n",
              "          if (!dataTable) return;\n",
              "\n",
              "          const docLinkHtml = 'Like what you see? Visit the ' +\n",
              "            '<a target=\"_blank\" href=https://colab.research.google.com/notebooks/data_table.ipynb>data table notebook</a>'\n",
              "            + ' to learn more about interactive tables.';\n",
              "          element.innerHTML = '';\n",
              "          dataTable['output_type'] = 'display_data';\n",
              "          await google.colab.output.renderOutput(dataTable, element);\n",
              "          const docLink = document.createElement('div');\n",
              "          docLink.innerHTML = docLinkHtml;\n",
              "          element.appendChild(docLink);\n",
              "        }\n",
              "      </script>\n",
              "    </div>\n",
              "  </div>\n",
              "  "
            ]
          },
          "metadata": {},
          "execution_count": 13
        }
      ],
      "source": [
        "df.head()"
      ]
    },
    {
      "cell_type": "code",
      "execution_count": 14,
      "metadata": {
        "id": "Lrz5mmalaLZy"
      },
      "outputs": [],
      "source": [
        "def encode_data(input):\n",
        "\n",
        "\n",
        "    customer_node = set(df['cc_num'])\n",
        "    merchant_node = set(df['merchant'])\n",
        "    transaction_node = set(df['trans_num'])\n",
        "    category = set(df['category'])\n",
        "    city = set(df['city'])\n",
        "    mapping_c = dict(zip(customer_node, range(len(customer_node))))\n",
        "    mapping_m = dict(zip(merchant_node, range(len(merchant_node))))                 \n",
        "    mapping_t = dict(zip(transaction_node, range(len(df))))\n",
        "    mapping_cat = dict(zip(category, range(len(df))))\n",
        "    mapping_city = dict(zip(city, range(len(df))))\n",
        "    output = input.copy()\n",
        "    output['customer_id'] = output.cc_num.apply(lambda x: mapping_c[x])\n",
        "    output['merchant_id'] = output.merchant.apply(lambda x: mapping_m[x])\n",
        "    output['transaction_id'] = output.trans_num.apply(lambda x: mapping_t[x])\n",
        "    output['category_id'] = output.category.apply(lambda x: mapping_cat[x])\n",
        "    output['city_id'] = output.city.apply(lambda x: mapping_city[x])\n",
        "\n",
        "    return output\n",
        "\n",
        "encoded_df = encode_data(df)"
      ]
    },
    {
      "cell_type": "code",
      "execution_count": 5,
      "metadata": {
        "id": "umM9RiVNaUK2"
      },
      "outputs": [],
      "source": [
        "user_transaction = df[['cc_num', 'trans_num', 'category', 'amt', 'is_fraud']]\n",
        "user_transaction.to_csv('user_transaction.csv')"
      ]
    },
    {
      "cell_type": "code",
      "execution_count": 15,
      "metadata": {
        "id": "p5d03MslaeOR"
      },
      "outputs": [],
      "source": [
        "merchant_transaction = df[['merchant', 'trans_num', 'category', 'amt', 'is_fraud']]\n",
        "merchant_transaction.to_csv('merchant_transaction.csv')"
      ]
    },
    {
      "cell_type": "code",
      "execution_count": 8,
      "metadata": {
        "colab": {
          "base_uri": "https://localhost:8080/",
          "height": 0
        },
        "id": "Tpioy07gatMB",
        "outputId": "a3882110-4426-40c6-ee83-f5750d81e41e"
      },
      "outputs": [
        {
          "output_type": "stream",
          "name": "stdout",
          "text": [
            "7815\n",
            "7798\n"
          ]
        }
      ],
      "source": [
        "print(df1.shape[0])\n",
        "print(df2.shape[0])"
      ]
    },
    {
      "cell_type": "code",
      "execution_count": 9,
      "metadata": {
        "colab": {
          "base_uri": "https://localhost:8080/",
          "height": 0
        },
        "id": "GoZK7qVHazLB",
        "outputId": "5a00d87d-2f7c-4bd0-a71f-4464ff08baac"
      },
      "outputs": [
        {
          "output_type": "stream",
          "name": "stdout",
          "text": [
            "Number of customers 908\n",
            "Number of customers in train 897\n",
            "Number of customers in test 899\n",
            "Number of merchants 693\n",
            "Number of merchants in train 693\n",
            "Number of merchants in test 693\n"
          ]
        }
      ],
      "source": [
        "print('Number of customers', pd.unique(encoded_df.customer_id).shape[0])\n",
        "print('Number of customers in train', pd.unique(encoded_df[encoded_df['train_mask'] == 1].customer_id).shape[0])\n",
        "print('Number of customers in test', pd.unique(encoded_df[encoded_df['test_mask'] == 1].customer_id).shape[0])\n",
        "print('Number of merchants', pd.unique(encoded_df.merchant_id).shape[0])\n",
        "print('Number of merchants in train', pd.unique(encoded_df[encoded_df['train_mask'] == 1].merchant_id).shape[0])\n",
        "print('Number of merchants in test', pd.unique(encoded_df[encoded_df['test_mask'] == 1].merchant_id).shape[0])"
      ]
    },
    {
      "cell_type": "code",
      "execution_count": 10,
      "metadata": {
        "colab": {
          "base_uri": "https://localhost:8080/",
          "height": 0
        },
        "id": "a4H5mROhazHa",
        "outputId": "9a987552-ac94-465f-ad2a-04540eebe627"
      },
      "outputs": [
        {
          "output_type": "execute_result",
          "data": {
            "text/plain": [
              "(15613, 30)"
            ]
          },
          "metadata": {},
          "execution_count": 10
        }
      ],
      "source": [
        "encoded_df.shape"
      ]
    },
    {
      "cell_type": "code",
      "execution_count": 11,
      "metadata": {
        "colab": {
          "base_uri": "https://localhost:8080/",
          "height": 820
        },
        "id": "KMAiW03ZYMlP",
        "outputId": "cbb8f9c6-450e-460a-b359-ad3b1d32d20f"
      },
      "outputs": [
        {
          "output_type": "stream",
          "name": "stdout",
          "text": [
            "3576431665303017    51\n",
            "2720433095629877    47\n",
            "4939976756738216    46\n",
            "4716561796955522    46\n",
            "630424987505        46\n",
            "                    ..\n",
            "2454076758463217     2\n",
            "346243940647414      2\n",
            "6526955903501879     1\n",
            "373213026644490      1\n",
            "5410056176712193     1\n",
            "Name: cc_num, Length: 908, dtype: int64\n",
            "fraud_Kilback LLC                 52\n",
            "fraud_Boyer PLC                   51\n",
            "fraud_Cormier LLC                 48\n",
            "fraud_Dickinson Ltd               47\n",
            "fraud_Witting, Beer and Ernser    43\n",
            "                                  ..\n",
            "fraud_Kessler Group                5\n",
            "fraud_Boyer-Haley                  5\n",
            "fraud_Shields Inc                  5\n",
            "fraud_Goyette-Herzog               4\n",
            "fraud_Rowe-Vandervort              4\n",
            "Name: merchant, Length: 693, dtype: int64\n",
            "0.0    15544\n",
            "1.0       67\n",
            "Name: is_fraud, dtype: int64\n"
          ]
        },
        {
          "output_type": "stream",
          "name": "stderr",
          "text": [
            "/usr/local/lib/python3.7/dist-packages/seaborn/_decorators.py:43: FutureWarning: Pass the following variable as a keyword arg: x. From version 0.12, the only valid positional argument will be `data`, and passing other arguments without an explicit keyword will result in an error or misinterpretation.\n",
            "  FutureWarning\n"
          ]
        },
        {
          "output_type": "execute_result",
          "data": {
            "text/plain": [
              "<matplotlib.axes._subplots.AxesSubplot at 0x7f1791c9c450>"
            ]
          },
          "metadata": {},
          "execution_count": 11
        },
        {
          "output_type": "display_data",
          "data": {
            "text/plain": [
              "<Figure size 432x288 with 1 Axes>"
            ],
            "image/png": "[encoded data removed]"
          },
          "metadata": {
            "needs_background": "light"
          }
        }
      ],
      "source": [
        "len(pd.unique(df.cc_num))\n",
        "print(df.cc_num.value_counts())\n",
        "len(pd.unique(df.merchant))\n",
        "print(df.merchant.value_counts())\n",
        "print(df.is_fraud.value_counts())\n",
        "\n",
        "sns.countplot(df.cc_num)\n"
      ]
    },
    {
      "cell_type": "code",
      "execution_count": 16,
      "metadata": {
        "colab": {
          "base_uri": "https://localhost:8080/",
          "height": 0
        },
        "id": "z3hqq-xlbQft",
        "outputId": "48b561a7-95f4-46b3-bbee-42dff51c5b2f"
      },
      "outputs": [
        {
          "output_type": "execute_result",
          "data": {
            "text/plain": [
              "0.0    15544\n",
              "1.0       67\n",
              "Name: is_fraud, dtype: int64"
            ]
          },
          "metadata": {},
          "execution_count": 16
        }
      ],
      "source": [
        "encoded_df.is_fraud.value_counts()"
      ]
    },
    {
      "cell_type": "code",
      "execution_count": 17,
      "metadata": {
        "colab": {
          "base_uri": "https://localhost:8080/",
          "height": 404
        },
        "id": "9a26dA0JfSeN",
        "outputId": "09df587c-ed82-4a2c-9e33-8066490a4c13"
      },
      "outputs": [
        {
          "output_type": "stream",
          "name": "stdout",
          "text": [
            "0.0    15544\n",
            "1.0       67\n",
            "Name: is_fraud, dtype: int64\n"
          ]
        },
        {
          "output_type": "stream",
          "name": "stderr",
          "text": [
            "/usr/local/lib/python3.7/dist-packages/seaborn/_decorators.py:43: FutureWarning: Pass the following variable as a keyword arg: x. From version 0.12, the only valid positional argument will be `data`, and passing other arguments without an explicit keyword will result in an error or misinterpretation.\n",
            "  FutureWarning\n"
          ]
        },
        {
          "output_type": "execute_result",
          "data": {
            "text/plain": [
              "<matplotlib.axes._subplots.AxesSubplot at 0x7f1790817610>"
            ]
          },
          "metadata": {},
          "execution_count": 17
        },
        {
          "output_type": "display_data",
          "data": {
            "text/plain": [
              "<Figure size 432x288 with 1 Axes>"
            ],
            "image/png": "[encoded data removed]"
          },
          "metadata": {
            "needs_background": "light"
          }
        }
      ],
      "source": [
        "print(encoded_df.is_fraud.value_counts())\n",
        "sns.countplot(encoded_df.is_fraud)"
      ]
    },
    {
      "cell_type": "code",
      "execution_count": 18,
      "metadata": {
        "id": "ee-UP2MTDBdd"
      },
      "outputs": [],
      "source": [
        "encoded_df = encode_data(df)"
      ]
    },
    {
      "cell_type": "code",
      "execution_count": 19,
      "metadata": {
        "id": "xm79oSDDYMlz",
        "colab": {
          "base_uri": "https://localhost:8080/",
          "height": 0
        },
        "outputId": "cb60156e-9561-4971-cd2f-a68171da84a1"
      },
      "outputs": [
        {
          "output_type": "stream",
          "name": "stdout",
          "text": [
            "Number of customers in train but not in test 9\n",
            "Number of merchants in train but not in test 0\n"
          ]
        }
      ],
      "source": [
        "c_train = set(pd.unique(encoded_df[encoded_df['train_mask'] == 1].customer_id))\n",
        "c_test = set(pd.unique(encoded_df[encoded_df['test_mask'] == 1].customer_id))\n",
        "\n",
        "print(\"Number of customers in train but not in test\", len(c_train.difference(c_test)))\n",
        "\n",
        "m_train = set(pd.unique(encoded_df[encoded_df['train_mask'] == 1].merchant_id))\n",
        "m_test = set(pd.unique(encoded_df[encoded_df['test_mask'] == 1].merchant_id))\n",
        "\n",
        "print(\"Number of merchants in train but not in test\", len(m_train.difference(m_test)))"
      ]
    },
    {
      "cell_type": "code",
      "execution_count": 20,
      "metadata": {
        "id": "IrwvMNzLYMl1"
      },
      "outputs": [],
      "source": [
        "fraud_item = encoded_df[encoded_df['is_fraud'] == 1]\n",
        "non_fraud_item = encoded_df[encoded_df['is_fraud'] == 0]"
      ]
    },
    {
      "cell_type": "code",
      "execution_count": 21,
      "metadata": {
        "id": "YC5MfYiZYMl2"
      },
      "outputs": [],
      "source": [
        "def find_relation(encoded_df):\n",
        "    fraud_item = encoded_df[encoded_df['is_fraud'] == 1]\n",
        "    non_fraud_item = encoded_df[encoded_df['is_fraud'] == 0]\n",
        "    return"
      ]
    },
    {
      "cell_type": "markdown",
      "metadata": {
        "id": "3vM8hbGQYMl_"
      },
      "source": [
        "## Edge Classicication Heterogenous"
      ]
    },
    {
      "cell_type": "code",
      "execution_count": 22,
      "metadata": {
        "id": "tUyHSJyRYMmI"
      },
      "outputs": [],
      "source": [
        "fraud_buy_edge = [tuple(x) for x in fraud_item[['customer_id', 'merchant_id']].to_numpy()]\n",
        "non_buy_edge = [tuple(x) for x in non_fraud_item[['customer_id', 'merchant_id']].to_numpy()]\n",
        "fraud_sell_edge = [tuple(x) for x in fraud_item[['merchant_id', 'customer_id']].to_numpy()]\n",
        "non_sell_edge = [tuple(x) for x in non_fraud_item[['merchant_id', 'customer_id']].to_numpy()]"
      ]
    },
    {
      "cell_type": "code",
      "execution_count": 23,
      "metadata": {
        "id": "tnCb3nlOYMmJ"
      },
      "outputs": [],
      "source": [
        "hetero_graph = dgl.heterograph({('client', 'is_fraud_buy', 'merchant'):fraud_buy_edge,\n",
        "                     ('client', 'not_fraud_buy', 'merchant'): non_buy_edge,\n",
        "                     ('merchant', 'is_fraud_sell', 'client'): fraud_sell_edge,\n",
        "                     ('merchant', 'not_fraud_sell', 'client'): non_sell_edge})"
      ]
    },
    {
      "cell_type": "code",
      "source": [
        "from matplotlib import pylab\n",
        "import networkx as nx\n",
        "hom = dgl.to_homogeneous(hetero_graph)\n",
        "G = dgl.to_networkx(hom)\n",
        "\n",
        "nx.draw(G)\n",
        "\n",
        "\n"
      ],
      "metadata": {
        "colab": {
          "base_uri": "https://localhost:8080/",
          "height": 319
        },
        "id": "8PreMqwjnxzT",
        "outputId": "8db7eaab-bbed-4ed0-ac4e-1d4d73138bc9"
      },
      "execution_count": 28,
      "outputs": [
        {
          "output_type": "display_data",
          "data": {
            "text/plain": [
              "<Figure size 432x288 with 1 Axes>"
            ],
            "image/png": "[encoded data removed]"
          },
          "metadata": {}
        }
      ]
    },
    {
      "cell_type": "code",
      "execution_count": 29,
      "metadata": {
        "id": "RnBA31QYYMmL",
        "colab": {
          "base_uri": "https://localhost:8080/",
          "height": 0
        },
        "outputId": "18d50939-852f-40dd-dc35-39ffadcb8f70"
      },
      "outputs": [
        {
          "output_type": "stream",
          "name": "stderr",
          "text": [
            "/usr/local/lib/python3.7/dist-packages/ipykernel_launcher.py:3: FutureWarning: Dropping invalid columns in DataFrameGroupBy.max is deprecated. In a future version, a TypeError will be raised. Before calling .max, select only columns which should be valid for the function.\n",
            "  This is separate from the ipykernel package so we can avoid doing imports until\n",
            "/usr/local/lib/python3.7/dist-packages/ipykernel_launcher.py:8: FutureWarning: Dropping invalid columns in DataFrameGroupBy.max is deprecated. In a future version, a TypeError will be raised. Before calling .max, select only columns which should be valid for the function.\n",
            "  \n"
          ]
        }
      ],
      "source": [
        "client_node = encoded_df.copy()\n",
        "client_amt = client_node.groupby(['customer_id']).sum().amt\n",
        "client_node = client_node.groupby(['customer_id']).max()\n",
        "client_node['amt'] = client_amt\n",
        "\n",
        "merchant_node = encoded_df.copy()\n",
        "merchant_amt = merchant_node.groupby(['merchant_id']).sum().amt\n",
        "merchant_node = merchant_node.groupby(['merchant_id']).max()\n",
        "merchant_node['amt'] = merchant_amt"
      ]
    },
    {
      "cell_type": "code",
      "execution_count": 30,
      "metadata": {
        "id": "ApPqrsVvYMmM"
      },
      "outputs": [],
      "source": [
        "hetero_graph.nodes['client'].data['feature'] = torch.tensor(client_node[['is_fraud', 'amt']].to_numpy()).float()\n",
        "hetero_graph.nodes['merchant'].data['feature'] = torch.tensor(merchant_node[['is_fraud', 'amt']].to_numpy()).float()                                                              \n",
        "hetero_graph.edges['is_fraud_buy'].data['train_mask'] = torch.Tensor(fraud_item['train_mask'].to_numpy()).bool()\n",
        "hetero_graph.edges['is_fraud_buy'].data['test_mask'] = torch.Tensor(fraud_item['test_mask'].to_numpy()).bool()\n",
        "hetero_graph.edges['not_fraud_buy'].data['train_mask'] = torch.Tensor(non_fraud_item['train_mask'].to_numpy()).bool()\n",
        "hetero_graph.edges['not_fraud_buy'].data['test_mask'] = torch.Tensor(non_fraud_item['test_mask'].to_numpy()).bool()\n",
        "hetero_graph.edges['is_fraud_sell'].data['train_mask'] = torch.Tensor(fraud_item['train_mask'].to_numpy()).bool()\n",
        "hetero_graph.edges['is_fraud_sell'].data['test_mask'] = torch.Tensor(fraud_item['test_mask'].to_numpy()).bool()\n",
        "hetero_graph.edges['not_fraud_sell'].data['train_mask'] = torch.Tensor(non_fraud_item['train_mask'].to_numpy()).bool()\n",
        "hetero_graph.edges['not_fraud_sell'].data['test_mask'] = torch.Tensor(non_fraud_item['test_mask'].to_numpy()).bool()"
      ]
    },
    {
      "cell_type": "code",
      "execution_count": 31,
      "metadata": {
        "id": "M5P8iiJvYMmO",
        "colab": {
          "base_uri": "https://localhost:8080/",
          "height": 0
        },
        "outputId": "7ebc716f-0108-4e15-bfd2-e143c03fc72c"
      },
      "outputs": [
        {
          "output_type": "execute_result",
          "data": {
            "text/plain": [
              "Graph(num_nodes={'client': 908, 'merchant': 693},\n",
              "      num_edges={('client', 'is_fraud_buy', 'merchant'): 67, ('client', 'not_fraud_buy', 'merchant'): 15544, ('merchant', 'is_fraud_sell', 'client'): 67, ('merchant', 'not_fraud_sell', 'client'): 15544},\n",
              "      metagraph=[('client', 'merchant', 'is_fraud_buy'), ('client', 'merchant', 'not_fraud_buy'), ('merchant', 'client', 'is_fraud_sell'), ('merchant', 'client', 'not_fraud_sell')])"
            ]
          },
          "metadata": {},
          "execution_count": 31
        }
      ],
      "source": [
        "hetero_graph"
      ]
    },
    {
      "cell_type": "code",
      "source": [
        "from matplotlib import pylab\n",
        "import networkx as nx\n",
        "hom = dgl.to_homogeneous(hetero_graph)\n",
        "G = dgl.to_networkx(hom)\n",
        "\n",
        "nx.draw(G)"
      ],
      "metadata": {
        "colab": {
          "base_uri": "https://localhost:8080/",
          "height": 319
        },
        "id": "V7Zme3odvGJh",
        "outputId": "5db562a4-8f0b-40f9-8ee9-e8c096a06b54"
      },
      "execution_count": 32,
      "outputs": [
        {
          "output_type": "display_data",
          "data": {
            "text/plain": [
              "<Figure size 432x288 with 1 Axes>"
            ],
            "image/png": "[encoded data removed]"
          },
          "metadata": {}
        }
      ]
    },
    {
      "cell_type": "code",
      "execution_count": 33,
      "metadata": {
        "id": "Q4_NoIp7YMmO"
      },
      "outputs": [],
      "source": [
        "dec_graph = hetero_graph['client', :, 'merchant']\n",
        "edge_label = dec_graph.edata[dgl.ETYPE]"
      ]
    },
    {
      "cell_type": "code",
      "execution_count": 34,
      "metadata": {
        "id": "eYsEtXj1YMmQ"
      },
      "outputs": [],
      "source": [
        "# Define a Heterograph Conv model\n",
        "\n",
        "class RGCN(nn.Module):\n",
        "    def __init__(self, in_feats, hid_feats, out_feats, rel_names):\n",
        "        super().__init__()\n",
        "\n",
        "        self.conv1 = dglnn.HeteroGraphConv({\n",
        "            rel: dglnn.GraphConv(in_feats, hid_feats)\n",
        "            for rel in rel_names}, aggregate='sum')\n",
        "        self.conv2 = dglnn.HeteroGraphConv({\n",
        "            rel: dglnn.GraphConv(hid_feats, out_feats)\n",
        "            for rel in rel_names}, aggregate='sum')\n",
        "\n",
        "    def forward(self, graph, inputs):\n",
        "        # inputs are features of nodes\n",
        "        h = self.conv1(graph, inputs)\n",
        "        h = {k: F.relu(v) for k, v in h.items()}\n",
        "        h = self.conv2(graph, h)\n",
        "        return h"
      ]
    },
    {
      "cell_type": "code",
      "execution_count": 35,
      "metadata": {
        "id": "3nVKFi8pYMmR"
      },
      "outputs": [],
      "source": [
        "class HeteroMLPPredictor(nn.Module):\n",
        "    def __init__(self, in_dims, n_classes):\n",
        "        super().__init__()\n",
        "        self.W = nn.Linear(in_dims * 2, n_classes)\n",
        "\n",
        "    def apply_edges(self, edges):\n",
        "        x = torch.cat([edges.src['h'], edges.dst['h']], 1)\n",
        "        y = self.W(x)\n",
        "        return {'score': y}\n",
        "\n",
        "    def forward(self, graph, h):\n",
        "        # h contains the node representations for each edge type computed from\n",
        "        # the GNN for heterogeneous graphs defined in the node classification\n",
        "        # section (Section 5.1).\n",
        "        with graph.local_scope():\n",
        "            graph.ndata['h'] = h   # assigns 'h' of all node types in one shot\n",
        "            graph.apply_edges(self.apply_edges)\n",
        "            return graph.edata['score']"
      ]
    },
    {
      "cell_type": "code",
      "execution_count": 36,
      "metadata": {
        "id": "PgiWR_WxYMmS"
      },
      "outputs": [],
      "source": [
        "class Model(nn.Module):\n",
        "    def __init__(self, in_features, hidden_features, out_features, rel_names):\n",
        "        super().__init__()\n",
        "        self.sage = RGCN(in_features, hidden_features, out_features, rel_names)\n",
        "        self.pred = HeteroMLPPredictor(out_features, len(rel_names))\n",
        "    def forward(self, g, x, dec_graph):\n",
        "        h = self.sage(g, x)\n",
        "        return self.pred(dec_graph, h)"
      ]
    },
    {
      "cell_type": "code",
      "execution_count": 42,
      "metadata": {
        "id": "cNWm6_y4YMmT",
        "colab": {
          "base_uri": "https://localhost:8080/",
          "height": 0
        },
        "outputId": "a3f4c5ef-761c-4b93-beae-04f0279ac134"
      },
      "outputs": [
        {
          "output_type": "stream",
          "name": "stderr",
          "text": [
            "/usr/local/lib/python3.7/dist-packages/torch/amp/autocast_mode.py:198: UserWarning: User provided device_type of 'cuda', but CUDA is not available. Disabling\n",
            "  warnings.warn('User provided device_type of \\'cuda\\', but CUDA is not available. Disabling')\n",
            "/usr/local/lib/python3.7/dist-packages/torch/amp/autocast_mode.py:198: UserWarning: User provided device_type of 'cuda', but CUDA is not available. Disabling\n",
            "  warnings.warn('User provided device_type of \\'cuda\\', but CUDA is not available. Disabling')\n",
            "/usr/local/lib/python3.7/dist-packages/torch/amp/autocast_mode.py:198: UserWarning: User provided device_type of 'cuda', but CUDA is not available. Disabling\n",
            "  warnings.warn('User provided device_type of \\'cuda\\', but CUDA is not available. Disabling')\n",
            "/usr/local/lib/python3.7/dist-packages/torch/amp/autocast_mode.py:198: UserWarning: User provided device_type of 'cuda', but CUDA is not available. Disabling\n",
            "  warnings.warn('User provided device_type of \\'cuda\\', but CUDA is not available. Disabling')\n",
            "/usr/local/lib/python3.7/dist-packages/torch/amp/autocast_mode.py:198: UserWarning: User provided device_type of 'cuda', but CUDA is not available. Disabling\n",
            "  warnings.warn('User provided device_type of \\'cuda\\', but CUDA is not available. Disabling')\n"
          ]
        },
        {
          "output_type": "stream",
          "name": "stdout",
          "text": [
            "817.9298095703125\n",
            "Predicted\n",
            "Counter: 1\n",
            "Test Accuracy: 99.50%\n",
            "f1_score: 99.74927675988428\n",
            "roc_auc: 49.89067524115755\n",
            "****************************************************************************************************\n",
            "815.7971801757812\n",
            "Predicted\n",
            "Counter: 2\n",
            "Test Accuracy: 99.50%\n",
            "f1_score: 99.74927675988428\n",
            "roc_auc: 49.89067524115755\n",
            "****************************************************************************************************\n",
            "813.66552734375\n",
            "Predicted\n",
            "Counter: 3\n",
            "Test Accuracy: 99.50%\n",
            "f1_score: 99.74927675988428\n",
            "roc_auc: 49.89067524115755\n",
            "****************************************************************************************************\n",
            "811.5352172851562\n",
            "Predicted\n",
            "Counter: 4\n",
            "Test Accuracy: 99.50%\n",
            "f1_score: 99.74927675988428\n",
            "roc_auc: 49.89067524115755\n",
            "****************************************************************************************************\n",
            "809.405517578125\n",
            "Predicted\n",
            "Counter: 5\n",
            "Test Accuracy: 99.50%\n",
            "f1_score: 99.74927675988428\n",
            "roc_auc: 49.89067524115755\n",
            "****************************************************************************************************\n",
            "807.27685546875\n",
            "Predicted\n",
            "Counter: 6\n",
            "Test Accuracy: 99.50%\n",
            "f1_score: 99.74927675988428\n",
            "roc_auc: 49.89067524115755\n",
            "****************************************************************************************************\n",
            "805.1491088867188\n",
            "Predicted\n",
            "Counter: 7\n",
            "Test Accuracy: 99.50%\n",
            "f1_score: 99.74927675988428\n",
            "roc_auc: 49.89067524115755\n",
            "****************************************************************************************************\n",
            "803.0223388671875\n",
            "Predicted\n",
            "Counter: 8\n",
            "Test Accuracy: 99.50%\n",
            "f1_score: 99.74927675988428\n",
            "roc_auc: 49.89067524115755\n",
            "****************************************************************************************************\n",
            "800.8963623046875\n"
          ]
        },
        {
          "output_type": "stream",
          "name": "stderr",
          "text": [
            "/usr/local/lib/python3.7/dist-packages/torch/amp/autocast_mode.py:198: UserWarning: User provided device_type of 'cuda', but CUDA is not available. Disabling\n",
            "  warnings.warn('User provided device_type of \\'cuda\\', but CUDA is not available. Disabling')\n",
            "/usr/local/lib/python3.7/dist-packages/torch/amp/autocast_mode.py:198: UserWarning: User provided device_type of 'cuda', but CUDA is not available. Disabling\n",
            "  warnings.warn('User provided device_type of \\'cuda\\', but CUDA is not available. Disabling')\n",
            "/usr/local/lib/python3.7/dist-packages/torch/amp/autocast_mode.py:198: UserWarning: User provided device_type of 'cuda', but CUDA is not available. Disabling\n",
            "  warnings.warn('User provided device_type of \\'cuda\\', but CUDA is not available. Disabling')\n",
            "/usr/local/lib/python3.7/dist-packages/torch/amp/autocast_mode.py:198: UserWarning: User provided device_type of 'cuda', but CUDA is not available. Disabling\n",
            "  warnings.warn('User provided device_type of \\'cuda\\', but CUDA is not available. Disabling')\n"
          ]
        },
        {
          "output_type": "stream",
          "name": "stdout",
          "text": [
            "Predicted\n",
            "Counter: 9\n",
            "Test Accuracy: 99.49%\n",
            "f1_score: 99.74283142599974\n",
            "roc_auc: 49.88424437299035\n",
            "****************************************************************************************************\n",
            "798.771728515625\n",
            "Predicted\n",
            "Counter: 10\n",
            "Test Accuracy: 99.49%\n",
            "f1_score: 99.74283142599974\n",
            "roc_auc: 49.88424437299035\n",
            "****************************************************************************************************\n",
            "796.6482543945312\n",
            "Predicted\n",
            "Counter: 11\n",
            "Test Accuracy: 99.49%\n",
            "f1_score: 99.74283142599974\n",
            "roc_auc: 49.88424437299035\n",
            "****************************************************************************************************\n",
            "794.52587890625\n",
            "Predicted\n",
            "Counter: 12\n",
            "Test Accuracy: 99.49%\n",
            "f1_score: 99.74283142599974\n",
            "roc_auc: 49.88424437299035\n",
            "****************************************************************************************************\n",
            "792.4044189453125\n"
          ]
        },
        {
          "output_type": "stream",
          "name": "stderr",
          "text": [
            "/usr/local/lib/python3.7/dist-packages/torch/amp/autocast_mode.py:198: UserWarning: User provided device_type of 'cuda', but CUDA is not available. Disabling\n",
            "  warnings.warn('User provided device_type of \\'cuda\\', but CUDA is not available. Disabling')\n",
            "/usr/local/lib/python3.7/dist-packages/torch/amp/autocast_mode.py:198: UserWarning: User provided device_type of 'cuda', but CUDA is not available. Disabling\n",
            "  warnings.warn('User provided device_type of \\'cuda\\', but CUDA is not available. Disabling')\n",
            "/usr/local/lib/python3.7/dist-packages/torch/amp/autocast_mode.py:198: UserWarning: User provided device_type of 'cuda', but CUDA is not available. Disabling\n",
            "  warnings.warn('User provided device_type of \\'cuda\\', but CUDA is not available. Disabling')\n",
            "/usr/local/lib/python3.7/dist-packages/torch/amp/autocast_mode.py:198: UserWarning: User provided device_type of 'cuda', but CUDA is not available. Disabling\n",
            "  warnings.warn('User provided device_type of \\'cuda\\', but CUDA is not available. Disabling')\n"
          ]
        },
        {
          "output_type": "stream",
          "name": "stdout",
          "text": [
            "Predicted\n",
            "Counter: 13\n",
            "Test Accuracy: 99.49%\n",
            "f1_score: 99.74283142599974\n",
            "roc_auc: 49.88424437299035\n",
            "****************************************************************************************************\n",
            "790.2844848632812\n",
            "Predicted\n",
            "Counter: 14\n",
            "Test Accuracy: 99.49%\n",
            "f1_score: 99.74283142599974\n",
            "roc_auc: 49.88424437299035\n",
            "****************************************************************************************************\n",
            "788.1657104492188\n",
            "Predicted\n",
            "Counter: 15\n",
            "Test Accuracy: 99.49%\n",
            "f1_score: 99.74283142599974\n",
            "roc_auc: 49.88424437299035\n",
            "****************************************************************************************************\n",
            "786.0478515625\n",
            "Predicted\n",
            "Counter: 16\n",
            "Test Accuracy: 99.49%\n",
            "f1_score: 99.74283142599974\n",
            "roc_auc: 49.88424437299035\n",
            "****************************************************************************************************\n",
            "783.9313354492188\n"
          ]
        },
        {
          "output_type": "stream",
          "name": "stderr",
          "text": [
            "/usr/local/lib/python3.7/dist-packages/torch/amp/autocast_mode.py:198: UserWarning: User provided device_type of 'cuda', but CUDA is not available. Disabling\n",
            "  warnings.warn('User provided device_type of \\'cuda\\', but CUDA is not available. Disabling')\n",
            "/usr/local/lib/python3.7/dist-packages/torch/amp/autocast_mode.py:198: UserWarning: User provided device_type of 'cuda', but CUDA is not available. Disabling\n",
            "  warnings.warn('User provided device_type of \\'cuda\\', but CUDA is not available. Disabling')\n",
            "/usr/local/lib/python3.7/dist-packages/torch/amp/autocast_mode.py:198: UserWarning: User provided device_type of 'cuda', but CUDA is not available. Disabling\n",
            "  warnings.warn('User provided device_type of \\'cuda\\', but CUDA is not available. Disabling')\n",
            "/usr/local/lib/python3.7/dist-packages/torch/amp/autocast_mode.py:198: UserWarning: User provided device_type of 'cuda', but CUDA is not available. Disabling\n",
            "  warnings.warn('User provided device_type of \\'cuda\\', but CUDA is not available. Disabling')\n"
          ]
        },
        {
          "output_type": "stream",
          "name": "stdout",
          "text": [
            "Predicted\n",
            "Counter: 17\n",
            "Test Accuracy: 99.49%\n",
            "f1_score: 99.74283142599974\n",
            "roc_auc: 49.88424437299035\n",
            "****************************************************************************************************\n",
            "781.8158569335938\n",
            "Predicted\n",
            "Counter: 18\n",
            "Test Accuracy: 99.49%\n",
            "f1_score: 99.74283142599974\n",
            "roc_auc: 49.88424437299035\n",
            "****************************************************************************************************\n",
            "779.701416015625\n",
            "Predicted\n",
            "Counter: 19\n",
            "Test Accuracy: 99.49%\n",
            "f1_score: 99.74283142599974\n",
            "roc_auc: 49.88424437299035\n",
            "****************************************************************************************************\n",
            "777.5878295898438\n",
            "Predicted\n",
            "Counter: 20\n",
            "Test Accuracy: 99.47%\n",
            "f1_score: 99.73638526329326\n",
            "roc_auc: 49.87781350482315\n",
            "****************************************************************************************************\n",
            "775.4754028320312\n"
          ]
        },
        {
          "output_type": "stream",
          "name": "stderr",
          "text": [
            "/usr/local/lib/python3.7/dist-packages/torch/amp/autocast_mode.py:198: UserWarning: User provided device_type of 'cuda', but CUDA is not available. Disabling\n",
            "  warnings.warn('User provided device_type of \\'cuda\\', but CUDA is not available. Disabling')\n",
            "/usr/local/lib/python3.7/dist-packages/torch/amp/autocast_mode.py:198: UserWarning: User provided device_type of 'cuda', but CUDA is not available. Disabling\n",
            "  warnings.warn('User provided device_type of \\'cuda\\', but CUDA is not available. Disabling')\n",
            "/usr/local/lib/python3.7/dist-packages/torch/amp/autocast_mode.py:198: UserWarning: User provided device_type of 'cuda', but CUDA is not available. Disabling\n",
            "  warnings.warn('User provided device_type of \\'cuda\\', but CUDA is not available. Disabling')\n",
            "/usr/local/lib/python3.7/dist-packages/torch/amp/autocast_mode.py:198: UserWarning: User provided device_type of 'cuda', but CUDA is not available. Disabling\n",
            "  warnings.warn('User provided device_type of \\'cuda\\', but CUDA is not available. Disabling')\n"
          ]
        },
        {
          "output_type": "stream",
          "name": "stdout",
          "text": [
            "Predicted\n",
            "Counter: 21\n",
            "Test Accuracy: 99.47%\n",
            "f1_score: 99.73638526329326\n",
            "roc_auc: 49.87781350482315\n",
            "****************************************************************************************************\n",
            "773.36376953125\n",
            "Predicted\n",
            "Counter: 22\n",
            "Test Accuracy: 99.47%\n",
            "f1_score: 99.73638526329326\n",
            "roc_auc: 49.87781350482315\n",
            "****************************************************************************************************\n",
            "771.2527465820312\n",
            "Predicted\n",
            "Counter: 23\n",
            "Test Accuracy: 99.47%\n",
            "f1_score: 99.73638526329326\n",
            "roc_auc: 49.87781350482315\n",
            "****************************************************************************************************\n",
            "769.142578125\n",
            "Predicted\n",
            "Counter: 24\n",
            "Test Accuracy: 99.47%\n",
            "f1_score: 99.73638526329326\n",
            "roc_auc: 49.87781350482315\n",
            "****************************************************************************************************\n",
            "767.0336303710938\n"
          ]
        },
        {
          "output_type": "stream",
          "name": "stderr",
          "text": [
            "/usr/local/lib/python3.7/dist-packages/torch/amp/autocast_mode.py:198: UserWarning: User provided device_type of 'cuda', but CUDA is not available. Disabling\n",
            "  warnings.warn('User provided device_type of \\'cuda\\', but CUDA is not available. Disabling')\n",
            "/usr/local/lib/python3.7/dist-packages/torch/amp/autocast_mode.py:198: UserWarning: User provided device_type of 'cuda', but CUDA is not available. Disabling\n",
            "  warnings.warn('User provided device_type of \\'cuda\\', but CUDA is not available. Disabling')\n",
            "/usr/local/lib/python3.7/dist-packages/torch/amp/autocast_mode.py:198: UserWarning: User provided device_type of 'cuda', but CUDA is not available. Disabling\n",
            "  warnings.warn('User provided device_type of \\'cuda\\', but CUDA is not available. Disabling')\n",
            "/usr/local/lib/python3.7/dist-packages/torch/amp/autocast_mode.py:198: UserWarning: User provided device_type of 'cuda', but CUDA is not available. Disabling\n",
            "  warnings.warn('User provided device_type of \\'cuda\\', but CUDA is not available. Disabling')\n"
          ]
        },
        {
          "output_type": "stream",
          "name": "stdout",
          "text": [
            "Predicted\n",
            "Counter: 25\n",
            "Test Accuracy: 99.47%\n",
            "f1_score: 99.73638526329326\n",
            "roc_auc: 49.87781350482315\n",
            "****************************************************************************************************\n",
            "764.9257202148438\n",
            "Predicted\n",
            "Counter: 26\n",
            "Test Accuracy: 99.47%\n",
            "f1_score: 99.73638526329326\n",
            "roc_auc: 49.87781350482315\n",
            "****************************************************************************************************\n",
            "762.8185424804688\n",
            "Predicted\n",
            "Counter: 27\n",
            "Test Accuracy: 99.46%\n",
            "f1_score: 99.72993827160495\n",
            "roc_auc: 49.871382636655945\n",
            "****************************************************************************************************\n",
            "760.7117919921875\n",
            "Predicted\n",
            "Counter: 28\n",
            "Test Accuracy: 99.46%\n",
            "f1_score: 99.72993827160495\n",
            "roc_auc: 49.871382636655945\n",
            "****************************************************************************************************\n",
            "758.6057739257812\n"
          ]
        },
        {
          "output_type": "stream",
          "name": "stderr",
          "text": [
            "/usr/local/lib/python3.7/dist-packages/torch/amp/autocast_mode.py:198: UserWarning: User provided device_type of 'cuda', but CUDA is not available. Disabling\n",
            "  warnings.warn('User provided device_type of \\'cuda\\', but CUDA is not available. Disabling')\n",
            "/usr/local/lib/python3.7/dist-packages/torch/amp/autocast_mode.py:198: UserWarning: User provided device_type of 'cuda', but CUDA is not available. Disabling\n",
            "  warnings.warn('User provided device_type of \\'cuda\\', but CUDA is not available. Disabling')\n",
            "/usr/local/lib/python3.7/dist-packages/torch/amp/autocast_mode.py:198: UserWarning: User provided device_type of 'cuda', but CUDA is not available. Disabling\n",
            "  warnings.warn('User provided device_type of \\'cuda\\', but CUDA is not available. Disabling')\n",
            "/usr/local/lib/python3.7/dist-packages/torch/amp/autocast_mode.py:198: UserWarning: User provided device_type of 'cuda', but CUDA is not available. Disabling\n",
            "  warnings.warn('User provided device_type of \\'cuda\\', but CUDA is not available. Disabling')\n"
          ]
        },
        {
          "output_type": "stream",
          "name": "stdout",
          "text": [
            "Predicted\n",
            "Counter: 29\n",
            "Test Accuracy: 99.46%\n",
            "f1_score: 99.72993827160495\n",
            "roc_auc: 49.871382636655945\n",
            "****************************************************************************************************\n",
            "756.500732421875\n",
            "Predicted\n",
            "Counter: 30\n",
            "Test Accuracy: 99.46%\n",
            "f1_score: 99.72993827160495\n",
            "roc_auc: 49.871382636655945\n",
            "****************************************************************************************************\n",
            "754.3964233398438\n",
            "Predicted\n",
            "Counter: 31\n",
            "Test Accuracy: 99.46%\n",
            "f1_score: 99.72993827160495\n",
            "roc_auc: 49.871382636655945\n",
            "****************************************************************************************************\n",
            "752.293212890625\n",
            "Predicted\n",
            "Counter: 32\n",
            "Test Accuracy: 99.46%\n",
            "f1_score: 99.72993827160495\n",
            "roc_auc: 49.871382636655945\n",
            "****************************************************************************************************\n",
            "750.190673828125\n",
            "Predicted\n"
          ]
        },
        {
          "output_type": "stream",
          "name": "stderr",
          "text": [
            "/usr/local/lib/python3.7/dist-packages/torch/amp/autocast_mode.py:198: UserWarning: User provided device_type of 'cuda', but CUDA is not available. Disabling\n",
            "  warnings.warn('User provided device_type of \\'cuda\\', but CUDA is not available. Disabling')\n",
            "/usr/local/lib/python3.7/dist-packages/torch/amp/autocast_mode.py:198: UserWarning: User provided device_type of 'cuda', but CUDA is not available. Disabling\n",
            "  warnings.warn('User provided device_type of \\'cuda\\', but CUDA is not available. Disabling')\n",
            "/usr/local/lib/python3.7/dist-packages/torch/amp/autocast_mode.py:198: UserWarning: User provided device_type of 'cuda', but CUDA is not available. Disabling\n",
            "  warnings.warn('User provided device_type of \\'cuda\\', but CUDA is not available. Disabling')\n",
            "/usr/local/lib/python3.7/dist-packages/torch/amp/autocast_mode.py:198: UserWarning: User provided device_type of 'cuda', but CUDA is not available. Disabling\n",
            "  warnings.warn('User provided device_type of \\'cuda\\', but CUDA is not available. Disabling')\n"
          ]
        },
        {
          "output_type": "stream",
          "name": "stdout",
          "text": [
            "Counter: 33\n",
            "Test Accuracy: 99.46%\n",
            "f1_score: 99.72993827160495\n",
            "roc_auc: 49.871382636655945\n",
            "****************************************************************************************************\n",
            "748.0889892578125\n",
            "Predicted\n",
            "Counter: 34\n",
            "Test Accuracy: 99.46%\n",
            "f1_score: 99.72993827160495\n",
            "roc_auc: 49.871382636655945\n",
            "****************************************************************************************************\n",
            "745.9879760742188\n",
            "Predicted\n",
            "Counter: 35\n",
            "Test Accuracy: 99.46%\n",
            "f1_score: 99.72993827160495\n",
            "roc_auc: 49.871382636655945\n",
            "****************************************************************************************************\n",
            "743.8877563476562\n",
            "Predicted\n",
            "Counter: 36\n",
            "Test Accuracy: 99.46%\n",
            "f1_score: 99.72993827160495\n",
            "roc_auc: 49.871382636655945\n",
            "****************************************************************************************************\n",
            "741.7883911132812\n"
          ]
        },
        {
          "output_type": "stream",
          "name": "stderr",
          "text": [
            "/usr/local/lib/python3.7/dist-packages/torch/amp/autocast_mode.py:198: UserWarning: User provided device_type of 'cuda', but CUDA is not available. Disabling\n",
            "  warnings.warn('User provided device_type of \\'cuda\\', but CUDA is not available. Disabling')\n",
            "/usr/local/lib/python3.7/dist-packages/torch/amp/autocast_mode.py:198: UserWarning: User provided device_type of 'cuda', but CUDA is not available. Disabling\n",
            "  warnings.warn('User provided device_type of \\'cuda\\', but CUDA is not available. Disabling')\n",
            "/usr/local/lib/python3.7/dist-packages/torch/amp/autocast_mode.py:198: UserWarning: User provided device_type of 'cuda', but CUDA is not available. Disabling\n",
            "  warnings.warn('User provided device_type of \\'cuda\\', but CUDA is not available. Disabling')\n",
            "/usr/local/lib/python3.7/dist-packages/torch/amp/autocast_mode.py:198: UserWarning: User provided device_type of 'cuda', but CUDA is not available. Disabling\n",
            "  warnings.warn('User provided device_type of \\'cuda\\', but CUDA is not available. Disabling')\n"
          ]
        },
        {
          "output_type": "stream",
          "name": "stdout",
          "text": [
            "Predicted\n",
            "Counter: 37\n",
            "Test Accuracy: 99.46%\n",
            "f1_score: 99.72993827160495\n",
            "roc_auc: 49.871382636655945\n",
            "****************************************************************************************************\n",
            "739.6898803710938\n",
            "Predicted\n",
            "Counter: 38\n",
            "Test Accuracy: 99.46%\n",
            "f1_score: 99.72993827160495\n",
            "roc_auc: 49.871382636655945\n",
            "****************************************************************************************************\n",
            "737.5916748046875\n",
            "Predicted\n",
            "Counter: 39\n",
            "Test Accuracy: 99.46%\n",
            "f1_score: 99.72993827160495\n",
            "roc_auc: 49.871382636655945\n",
            "****************************************************************************************************\n",
            "735.4942626953125\n",
            "Predicted\n",
            "Counter: 40\n",
            "Test Accuracy: 99.46%\n",
            "f1_score: 99.72993827160495\n",
            "roc_auc: 49.871382636655945\n",
            "****************************************************************************************************\n",
            "733.3973388671875\n"
          ]
        },
        {
          "output_type": "stream",
          "name": "stderr",
          "text": [
            "/usr/local/lib/python3.7/dist-packages/torch/amp/autocast_mode.py:198: UserWarning: User provided device_type of 'cuda', but CUDA is not available. Disabling\n",
            "  warnings.warn('User provided device_type of \\'cuda\\', but CUDA is not available. Disabling')\n",
            "/usr/local/lib/python3.7/dist-packages/torch/amp/autocast_mode.py:198: UserWarning: User provided device_type of 'cuda', but CUDA is not available. Disabling\n",
            "  warnings.warn('User provided device_type of \\'cuda\\', but CUDA is not available. Disabling')\n",
            "/usr/local/lib/python3.7/dist-packages/torch/amp/autocast_mode.py:198: UserWarning: User provided device_type of 'cuda', but CUDA is not available. Disabling\n",
            "  warnings.warn('User provided device_type of \\'cuda\\', but CUDA is not available. Disabling')\n",
            "/usr/local/lib/python3.7/dist-packages/torch/amp/autocast_mode.py:198: UserWarning: User provided device_type of 'cuda', but CUDA is not available. Disabling\n",
            "  warnings.warn('User provided device_type of \\'cuda\\', but CUDA is not available. Disabling')\n"
          ]
        },
        {
          "output_type": "stream",
          "name": "stdout",
          "text": [
            "Predicted\n",
            "Counter: 41\n",
            "Test Accuracy: 99.46%\n",
            "f1_score: 99.72993827160495\n",
            "roc_auc: 49.871382636655945\n",
            "****************************************************************************************************\n",
            "731.30126953125\n",
            "Predicted\n",
            "Counter: 42\n",
            "Test Accuracy: 99.46%\n",
            "f1_score: 99.72993827160495\n",
            "roc_auc: 49.871382636655945\n",
            "****************************************************************************************************\n",
            "729.205810546875\n",
            "Predicted\n",
            "Counter: 43\n",
            "Test Accuracy: 99.46%\n",
            "f1_score: 99.72993827160495\n",
            "roc_auc: 49.871382636655945\n",
            "****************************************************************************************************\n",
            "727.1110229492188\n",
            "Predicted\n",
            "Counter: 44\n",
            "Test Accuracy: 99.45%\n",
            "f1_score: 99.72349045077488\n",
            "roc_auc: 49.864951768488744\n",
            "****************************************************************************************************\n",
            "725.0169067382812\n",
            "Predicted\n"
          ]
        },
        {
          "output_type": "stream",
          "name": "stderr",
          "text": [
            "/usr/local/lib/python3.7/dist-packages/torch/amp/autocast_mode.py:198: UserWarning: User provided device_type of 'cuda', but CUDA is not available. Disabling\n",
            "  warnings.warn('User provided device_type of \\'cuda\\', but CUDA is not available. Disabling')\n",
            "/usr/local/lib/python3.7/dist-packages/torch/amp/autocast_mode.py:198: UserWarning: User provided device_type of 'cuda', but CUDA is not available. Disabling\n",
            "  warnings.warn('User provided device_type of \\'cuda\\', but CUDA is not available. Disabling')\n",
            "/usr/local/lib/python3.7/dist-packages/torch/amp/autocast_mode.py:198: UserWarning: User provided device_type of 'cuda', but CUDA is not available. Disabling\n",
            "  warnings.warn('User provided device_type of \\'cuda\\', but CUDA is not available. Disabling')\n",
            "/usr/local/lib/python3.7/dist-packages/torch/amp/autocast_mode.py:198: UserWarning: User provided device_type of 'cuda', but CUDA is not available. Disabling\n",
            "  warnings.warn('User provided device_type of \\'cuda\\', but CUDA is not available. Disabling')\n"
          ]
        },
        {
          "output_type": "stream",
          "name": "stdout",
          "text": [
            "Counter: 45\n",
            "Test Accuracy: 99.45%\n",
            "f1_score: 99.72349045077488\n",
            "roc_auc: 49.864951768488744\n",
            "****************************************************************************************************\n",
            "722.923583984375\n",
            "Predicted\n",
            "Counter: 46\n",
            "Test Accuracy: 99.45%\n",
            "f1_score: 99.72349045077488\n",
            "roc_auc: 49.864951768488744\n",
            "****************************************************************************************************\n",
            "720.8312377929688\n",
            "Predicted\n",
            "Counter: 47\n",
            "Test Accuracy: 99.45%\n",
            "f1_score: 99.72349045077488\n",
            "roc_auc: 49.864951768488744\n",
            "****************************************************************************************************\n",
            "718.7396240234375\n",
            "Predicted\n",
            "Counter: 48\n",
            "Test Accuracy: 99.45%\n",
            "f1_score: 99.72349045077488\n",
            "roc_auc: 49.864951768488744\n",
            "****************************************************************************************************\n",
            "716.648681640625\n",
            "Predicted\n"
          ]
        },
        {
          "output_type": "stream",
          "name": "stderr",
          "text": [
            "/usr/local/lib/python3.7/dist-packages/torch/amp/autocast_mode.py:198: UserWarning: User provided device_type of 'cuda', but CUDA is not available. Disabling\n",
            "  warnings.warn('User provided device_type of \\'cuda\\', but CUDA is not available. Disabling')\n",
            "/usr/local/lib/python3.7/dist-packages/torch/amp/autocast_mode.py:198: UserWarning: User provided device_type of 'cuda', but CUDA is not available. Disabling\n",
            "  warnings.warn('User provided device_type of \\'cuda\\', but CUDA is not available. Disabling')\n",
            "/usr/local/lib/python3.7/dist-packages/torch/amp/autocast_mode.py:198: UserWarning: User provided device_type of 'cuda', but CUDA is not available. Disabling\n",
            "  warnings.warn('User provided device_type of \\'cuda\\', but CUDA is not available. Disabling')\n",
            "/usr/local/lib/python3.7/dist-packages/torch/amp/autocast_mode.py:198: UserWarning: User provided device_type of 'cuda', but CUDA is not available. Disabling\n",
            "  warnings.warn('User provided device_type of \\'cuda\\', but CUDA is not available. Disabling')\n"
          ]
        },
        {
          "output_type": "stream",
          "name": "stdout",
          "text": [
            "Counter: 49\n",
            "Test Accuracy: 99.44%\n",
            "f1_score: 99.71704180064309\n",
            "roc_auc: 49.858520900321544\n",
            "****************************************************************************************************\n",
            "714.5582275390625\n",
            "Predicted\n",
            "Counter: 50\n",
            "Test Accuracy: 99.44%\n",
            "f1_score: 99.71704180064309\n",
            "roc_auc: 49.858520900321544\n",
            "****************************************************************************************************\n"
          ]
        },
        {
          "output_type": "stream",
          "name": "stderr",
          "text": [
            "/usr/local/lib/python3.7/dist-packages/torch/amp/autocast_mode.py:198: UserWarning: User provided device_type of 'cuda', but CUDA is not available. Disabling\n",
            "  warnings.warn('User provided device_type of \\'cuda\\', but CUDA is not available. Disabling')\n"
          ]
        }
      ],
      "source": [
        "from sklearn.metrics import roc_auc_score\n",
        "from sklearn.metrics import f1_score\n",
        "\n",
        "model = Model(2, 4, 5, hetero_graph.etypes)\n",
        "client_feats = hetero_graph.nodes['client'].data['feature']\n",
        "merchant_feats = hetero_graph.nodes['merchant'].data['feature']\n",
        "node_features = {'client': client_feats, 'merchant': merchant_feats}\n",
        "\n",
        "test_mask = dec_graph.edata['test_mask']\n",
        "train_mask = dec_graph.edata['train_mask']\n",
        "\n",
        "opt = torch.optim.Adam(model.parameters(), lr=0.0001)\n",
        "counter = 1\n",
        "for epoch in range(50):\n",
        "    model.train()\n",
        "    logits = model(hetero_graph, node_features, dec_graph)\n",
        "    loss = F.cross_entropy(logits[train_mask], edge_label[train_mask])\n",
        "    opt.zero_grad()\n",
        "    loss.backward()\n",
        "    opt.step()\n",
        "    print(loss.item())\n",
        "    \n",
        "    model.eval()\n",
        "    with torch.no_grad():\n",
        "        out = model(hetero_graph, node_features, dec_graph)\n",
        "        pred = out.argmax(1)\n",
        "        print(\"Predicted\")\n",
        "        pred[pred==0] = 1\n",
        "        pred[pred==1] = 0\n",
        "        pred[pred==2] = 1\n",
        "        pred[pred==3] = 0\n",
        "\n",
        "    #     pred = model(hetero_graph, node_features)['transaction']\n",
        "    #     result = hetero_graph.nodes['transaction'].data['label']\n",
        "        train_acc = (pred[train_mask] == edge_label[train_mask]).float().mean()\n",
        "        test_acc = (pred[test_mask] == edge_label[test_mask]).float().mean()\n",
        "        print(\"Counter:\", counter)\n",
        "        print('Test Accuracy: %.2f%%' % (test_acc.item() * 100))\n",
        "        print(\"f1_score:\", f1_score(pred[test_mask], edge_label[test_mask])*100)\n",
        "        print(\"roc_auc:\", roc_auc_score(edge_label[test_mask], pred[test_mask])*100)\n",
        "        print('*'*100)\n",
        "        counter+=1"
      ]
    },
    {
      "cell_type": "code",
      "execution_count": 43,
      "metadata": {
        "id": "kDX7gVDuYMmV",
        "colab": {
          "base_uri": "https://localhost:8080/",
          "height": 0
        },
        "outputId": "9c70dfc1-bad8-4ecc-f3cf-efe935432459"
      },
      "outputs": [
        {
          "output_type": "execute_result",
          "data": {
            "text/plain": [
              "['is_fraud_buy', 'not_fraud_buy', 'is_fraud_sell', 'not_fraud_sell']"
            ]
          },
          "metadata": {},
          "execution_count": 43
        }
      ],
      "source": [
        " hetero_graph.etypes"
      ]
    },
    {
      "cell_type": "code",
      "execution_count": 44,
      "metadata": {
        "id": "Nsax0XHuYMmV",
        "colab": {
          "base_uri": "https://localhost:8080/",
          "height": 0
        },
        "outputId": "87286a04-f2f9-4f32-ea9c-bbf75f465a9e"
      },
      "outputs": [
        {
          "output_type": "stream",
          "name": "stdout",
          "text": [
            "Predicted\n",
            "Test Accuracy: 99.44%\n",
            "99.71704180064309\n",
            "0.49858520900321546\n"
          ]
        }
      ],
      "source": [
        "from sklearn.metrics import roc_auc_score\n",
        "from sklearn.metrics import f1_score\n",
        "\n",
        "\n",
        "test_mask = dec_graph.edata['test_mask']\n",
        "train_mask = dec_graph.edata['train_mask']\n",
        "model.eval()\n",
        "with torch.no_grad():\n",
        "    out = model(hetero_graph, node_features, dec_graph)\n",
        "    pred = out.argmax(1)\n",
        "    print(\"Predicted\")\n",
        "    pred[pred==0] = 1\n",
        "    pred[pred==1] = 0\n",
        "    pred[pred==2] = 1\n",
        "    pred[pred==3] = 0\n",
        "        \n",
        "    train_acc = (pred[train_mask] == edge_label[train_mask]).float().mean()\n",
        "    test_acc = (pred[test_mask] == edge_label[test_mask]).float().mean()\n",
        "    print('Test Accuracy: %.2f%%' % (test_acc.item() * 100))\n",
        "    \n",
        "    print(f1_score(pred[test_mask], edge_label[test_mask])*100)\n",
        "    print(roc_auc_score(edge_label[test_mask], pred[test_mask]))"
      ]
    }
  ],
  "metadata": {
    "colab": {
      "name": "Bank_fraud_detection.ipynb",
      "provenance": [],
      "collapsed_sections": []
    },
    "kernelspec": {
      "display_name": "Python 3",
      "language": "python",
      "name": "python3"
    },
    "language_info": {
      "codemirror_mode": {
        "name": "ipython",
        "version": 3
      },
      "file_extension": ".py",
      "mimetype": "text/x-python",
      "name": "python",
      "nbconvert_exporter": "python",
      "pygments_lexer": "ipython3",
      "version": "3.7.9"
    }
  },
  "nbformat": 4,
  "nbformat_minor": 0
}